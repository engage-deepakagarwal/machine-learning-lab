{
 "cells": [
  {
   "cell_type": "markdown",
   "id": "4faee96f",
   "metadata": {},
   "source": [
    "# What Is Modal?\n",
    "- Modal is a cloud-native, serverless compute platform designed specifically for AI and data teams. \n",
    "- It lets you \"bring your own code\" and run CPU-, GPU-, and memory-intensive workloads at scale without managing infrastructure."
   ]
  },
  {
   "cell_type": "markdown",
   "id": "ad7f01d8",
   "metadata": {},
   "source": [
    "# Core Features"
   ]
  },
  {
   "cell_type": "markdown",
   "id": "f049b8a4",
   "metadata": {},
   "source": [
    "- Sub-second container starts\n",
    "  - Rust-based container stack for lightning-fast cold boots.\n",
    "- Seamless autoscaling\n",
    "  - Scales from zero to thousands of GPUs (or CPU nodes) to handle unpredictable loads.\n",
    "- Fast model loading\n",
    "  - Optimized file system loads gigabytes of model weights in seconds.\n",
    "- Bring-your-own code & frameworks\n",
    "  - Deploy custom models, Hugging Face pipelines, or any Python/Rust/C++ code without changing your codebase.\n",
    "- Flexible environments\n",
    "  - Use prebuilt Python containers or supply your own Docker images; provision A100/H100 GPUs on demand.\n",
    "- Integrated data volumes\n",
    "  - Mount S3, R2, or other object storage as persistent volumes for datasets, model weights, or experiment outputs. \n",
    "- Observability & integrations\n",
    "  - Export logs/traces via OpenTelemetry to Datadog, New Relic, etc., for real-time monitoring."
   ]
  },
  {
   "cell_type": "markdown",
   "id": "f2cf47c5",
   "metadata": {},
   "source": [
    "# Architecture & Workflow\n"
   ]
  },
  {
   "cell_type": "markdown",
   "id": "b27d7507",
   "metadata": {},
   "source": [
    "- Define a Modal Function\n",
    "  - Decorate Python functions (or methods) with `@modal.function` to specify compute resources (CPU/GPU, memory, timeout).\n",
    "- Local Testing\n",
    "  - Invoke the same functions locally for rapid iteration.\n",
    "- Deployment\n",
    "  - Push to Modal with a single CLI command; the platform packages your code, dependencies, and runtime.\n",
    "- Execution\n",
    "  - Modal schedules workloads in its serverless fleet, spins up containers on demand, runs your code, then scales to zero.\n",
    "- Scaling & Load Balancing\n",
    "  - Autoscaling across containers abstracts away horizontal scaling complexities."
   ]
  },
  {
   "cell_type": "markdown",
   "id": "ec69d0dd",
   "metadata": {},
   "source": [
    "# Typical Use Cases"
   ]
  },
  {
   "cell_type": "markdown",
   "id": "53b912f6",
   "metadata": {},
   "source": [
    "- LLM Inference\n",
    "  - Deploy chatbots or embedding services using custom or open-source language models.\n",
    "- Fine-tuning / Training\n",
    "  - Run hyperparameter sweeps on A100/H100 GPUs without queue times; pay per second.\n",
    "- Batch Data Processing\n",
    "  - Fan-out parallel jobs for dataset preprocessing, feature extraction, or vector indexing.\n",
    "- Research & Prototyping\n",
    "  - Spin up experiments quickly, test new architectures without worrying about infra setup."
   ]
  },
  {
   "cell_type": "markdown",
   "id": "702f3ba2",
   "metadata": {},
   "source": [
    "# Pricing & Credits"
   ]
  },
  {
   "cell_type": "markdown",
   "id": "d5195b55",
   "metadata": {},
   "source": [
    "- Pay-as-you-go: billed by the second for CPU, GPU, and memory usage.\n",
    "- Free Tier & Credits: startups can apply for up to $50 K in free credits; personal trial includes free hours of CPU/GPU.\n",
    "- Cost Efficiency: no idle-resource charges—containers scale to zero when idle."
   ]
  },
  {
   "cell_type": "markdown",
   "id": "c68954ac",
   "metadata": {},
   "source": [
    "# Example Usage"
   ]
  },
  {
   "cell_type": "code",
   "execution_count": 1,
   "id": "b6a6e102",
   "metadata": {},
   "outputs": [],
   "source": [
    "import modal"
   ]
  },
  {
   "cell_type": "markdown",
   "id": "1feaab5a",
   "metadata": {},
   "source": [
    "Setting up the modal tokens. This is the same as running `modal setup` from the command line. It connects with Modal and installs your tokens."
   ]
  },
  {
   "cell_type": "code",
   "execution_count": null,
   "id": "33730bdb",
   "metadata": {},
   "outputs": [],
   "source": [
    "!modal setup"
   ]
  },
  {
   "cell_type": "code",
   "execution_count": null,
   "id": "e640fe8c",
   "metadata": {},
   "outputs": [],
   "source": [
    "!modal token new"
   ]
  },
  {
   "cell_type": "markdown",
   "id": "cf12a0b8",
   "metadata": {},
   "source": [
    "Grab the token id and token secret from this file and add it to .env"
   ]
  },
  {
   "cell_type": "code",
   "execution_count": 2,
   "id": "e6af8b5c",
   "metadata": {},
   "outputs": [
    {
     "data": {
      "text/plain": [
       "True"
      ]
     },
     "execution_count": 2,
     "metadata": {},
     "output_type": "execute_result"
    }
   ],
   "source": [
    "from dotenv import load_dotenv\n",
    "load_dotenv()"
   ]
  },
  {
   "cell_type": "code",
   "execution_count": 3,
   "id": "990bc438",
   "metadata": {},
   "outputs": [],
   "source": [
    "from hello import app, hello"
   ]
  },
  {
   "cell_type": "code",
   "execution_count": null,
   "id": "f456dc57",
   "metadata": {},
   "outputs": [],
   "source": [
    "with app.run():\n",
    "    reply = hello.local() # This will run the hello function locally\n",
    "reply"
   ]
  },
  {
   "cell_type": "code",
   "execution_count": null,
   "id": "f458423f",
   "metadata": {},
   "outputs": [],
   "source": [
    "with app.run():\n",
    "    reply=hello.remote() # This will run the hello function in the Modal cloud\n",
    "reply"
   ]
  },
  {
   "cell_type": "markdown",
   "id": "38297775",
   "metadata": {},
   "source": [
    "Register your Hugging face secret to `modal.com`"
   ]
  },
  {
   "cell_type": "code",
   "execution_count": 4,
   "id": "cf68d97b",
   "metadata": {},
   "outputs": [
    {
     "name": "stdout",
     "output_type": "stream",
     "text": [
      "Status: 200\n",
      "Response: {\n",
      "  \"architectures\": [\n",
      "    \"LlamaForCausalLM\"\n",
      "  ],\n",
      "  \"attention_bias\": false,\n",
      "  \"attention_dropout\": 0.0,\n",
      "  \"bos_token_id\": 128000,\n",
      "  \"eos_token_id\": 128001,\n",
      "  \"hidden_act\": \"silu\",\n",
      "  \"hidden_size\": 4\n"
     ]
    }
   ],
   "source": [
    "# First check if you can access the Hugging Face API\n",
    "import requests\n",
    "import os\n",
    "\n",
    "token = os.getenv(\"HF_TOKEN\")\n",
    "headers = {\"Authorization\": f\"Bearer {token}\"}\n",
    "response = requests.get(\n",
    "    \"https://huggingface.co/meta-llama/Meta-Llama-3.1-8B/resolve/main/config.json\",\n",
    "    headers=headers\n",
    ")\n",
    "print(f\"Status: {response.status_code}\")\n",
    "print(f\"Response: {response.text[:200]}\")"
   ]
  },
  {
   "cell_type": "code",
   "execution_count": 5,
   "id": "5f08c0fe",
   "metadata": {},
   "outputs": [],
   "source": [
    "from llama import app, generate"
   ]
  },
  {
   "cell_type": "markdown",
   "id": "21363283",
   "metadata": {},
   "source": [
    "Troubleshooting in case you get errors\n",
    "- Ensure you have access to the repository or the access is granted to the repository\n",
    "- The hugging face token should have `Read` permission\n",
    "- Restart the kernel of the notebook"
   ]
  },
  {
   "cell_type": "code",
   "execution_count": 6,
   "id": "dce5d3dc",
   "metadata": {},
   "outputs": [
    {
     "data": {
      "application/vnd.jupyter.widget-view+json": {
       "model_id": "e94e44ea265e4c3d8e939977de0cf6dc",
       "version_major": 2,
       "version_minor": 0
      },
      "text/plain": [
       "Output()"
      ]
     },
     "metadata": {},
     "output_type": "display_data"
    },
    {
     "data": {
      "text/html": [
       "<pre style=\"white-space:pre;overflow-x:auto;line-height:normal;font-family:Menlo,'DejaVu Sans Mono',consolas,'Courier New',monospace\"><span style=\"color: #008000; text-decoration-color: #008000\">✓</span> Initialized. <span style=\"color: #b2b2b2; text-decoration-color: #b2b2b2\">View run at </span><span style=\"color: #b2b2b2; text-decoration-color: #b2b2b2; text-decoration: underline\">https://modal.com/apps/deepak-pict/main/ap-M9Iz4iSxevm4smDrvRTjl2</span>\n",
       "</pre>\n"
      ],
      "text/plain": [
       "\u001b[32m✓\u001b[0m Initialized. \u001b[38;5;249mView run at \u001b[0m\u001b[4;38;5;249mhttps://modal.com/apps/deepak-pict/main/ap-M9Iz4iSxevm4smDrvRTjl2\u001b[0m\n"
      ]
     },
     "metadata": {},
     "output_type": "display_data"
    },
    {
     "data": {
      "text/html": [
       "<pre style=\"white-space:pre;overflow-x:auto;line-height:normal;font-family:Menlo,'DejaVu Sans Mono',consolas,'Courier New',monospace\"></pre>\n"
      ],
      "text/plain": []
     },
     "metadata": {},
     "output_type": "display_data"
    },
    {
     "data": {
      "application/vnd.jupyter.widget-view+json": {
       "model_id": "8b3eca3f4003460bbd10300522b008cc",
       "version_major": 2,
       "version_minor": 0
      },
      "text/plain": [
       "Output()"
      ]
     },
     "metadata": {},
     "output_type": "display_data"
    },
    {
     "data": {
      "text/html": [
       "<pre style=\"white-space:pre;overflow-x:auto;line-height:normal;font-family:Menlo,'DejaVu Sans Mono',consolas,'Courier New',monospace\"></pre>\n"
      ],
      "text/plain": []
     },
     "metadata": {},
     "output_type": "display_data"
    },
    {
     "data": {
      "text/html": [
       "<pre style=\"white-space:pre;overflow-x:auto;line-height:normal;font-family:Menlo,'DejaVu Sans Mono',consolas,'Courier New',monospace\"><span style=\"color: #008000; text-decoration-color: #008000\">✓</span> Created objects.\n",
       "<span style=\"color: #808080; text-decoration-color: #808080\">├── </span>🔨 Created mount c:\\TFS\\Study\\machine-learning\\llama.py\n",
       "<span style=\"color: #808080; text-decoration-color: #808080\">└── </span>🔨 Created function generate.\n",
       "</pre>\n"
      ],
      "text/plain": [
       "\u001b[32m✓\u001b[0m Created objects.\n",
       "\u001b[38;5;244m├── \u001b[0m🔨 Created mount c:\\TFS\\Study\\machine-learning\\llama.py\n",
       "\u001b[38;5;244m└── \u001b[0m🔨 Created function generate.\n"
      ]
     },
     "metadata": {},
     "output_type": "display_data"
    },
    {
     "data": {
      "application/vnd.jupyter.widget-view+json": {
       "model_id": "736a4e33debb45e8b717fbdf8aff5914",
       "version_major": 2,
       "version_minor": 0
      },
      "text/plain": [
       "Output()"
      ]
     },
     "metadata": {},
     "output_type": "display_data"
    },
    {
     "data": {
      "text/html": [
       "<pre style=\"white-space:pre;overflow-x:auto;line-height:normal;font-family:Menlo,'DejaVu Sans Mono',consolas,'Courier New',monospace\"><span style=\"color: #800000; text-decoration-color: #800000\">\n",
       "</span></pre>\n"
      ],
      "text/plain": [
       "\u001b[31m\n",
       "\u001b[0m"
      ]
     },
     "metadata": {},
     "output_type": "display_data"
    },
    {
     "data": {
      "text/html": [
       "<pre style=\"white-space:pre;overflow-x:auto;line-height:normal;font-family:Menlo,'DejaVu Sans Mono',consolas,'Courier New',monospace\"><span style=\"color: #800000; text-decoration-color: #800000\">\u001b[1AFetching 4 files:   0%|          | 0/4 [00:00&lt;?, ?it/s]</span></pre>\n"
      ],
      "text/plain": [
       "\u001b[31m\u001b[1AFetching 4 files:   0%|          | 0/4 [00:00<?, ?it/s]\u001b[0m"
      ]
     },
     "metadata": {},
     "output_type": "display_data"
    },
    {
     "data": {
      "text/html": [
       "<pre style=\"white-space:pre;overflow-x:auto;line-height:normal;font-family:Menlo,'DejaVu Sans Mono',consolas,'Courier New',monospace\"><span style=\"color: #800000; text-decoration-color: #800000\">\n",
       "</span></pre>\n"
      ],
      "text/plain": [
       "\u001b[31m\n",
       "\u001b[0m"
      ]
     },
     "metadata": {},
     "output_type": "display_data"
    },
    {
     "data": {
      "text/html": [
       "<pre style=\"white-space:pre;overflow-x:auto;line-height:normal;font-family:Menlo,'DejaVu Sans Mono',consolas,'Courier New',monospace\"><span style=\"color: #800000; text-decoration-color: #800000\">\u001b[1AFetching 4 files:  25%|██▌       | 1/4 [01:09&lt;03:29, 69.91s/it]Fetching 4 files: 100%|██████████| 4/4 [01:09&lt;00:00, 17.48s/it]\n",
       "</span></pre>\n"
      ],
      "text/plain": [
       "\u001b[31m\u001b[1AFetching 4 files:  25%|██▌       | 1/4 [01:09<03:29, 69.91s/it]Fetching 4 files: 100%|██████████| 4/4 [01:09<00:00, 17.48s/it]\n",
       "\u001b[0m"
      ]
     },
     "metadata": {},
     "output_type": "display_data"
    },
    {
     "data": {
      "text/html": [
       "<pre style=\"white-space:pre;overflow-x:auto;line-height:normal;font-family:Menlo,'DejaVu Sans Mono',consolas,'Courier New',monospace\"><span style=\"color: #800000; text-decoration-color: #800000\">\n",
       "</span></pre>\n"
      ],
      "text/plain": [
       "\u001b[31m\n",
       "\u001b[0m"
      ]
     },
     "metadata": {},
     "output_type": "display_data"
    },
    {
     "data": {
      "text/html": [
       "<pre style=\"white-space:pre;overflow-x:auto;line-height:normal;font-family:Menlo,'DejaVu Sans Mono',consolas,'Courier New',monospace\"><span style=\"color: #800000; text-decoration-color: #800000\">\u001b[1ALoading checkpoint shards:   0%|          | 0/4 [00:00&lt;?, ?it/s]\n",
       "</span></pre>\n"
      ],
      "text/plain": [
       "\u001b[31m\u001b[1ALoading checkpoint shards:   0%|          | 0/4 [00:00<?, ?it/s]\n",
       "\u001b[0m"
      ]
     },
     "metadata": {},
     "output_type": "display_data"
    },
    {
     "data": {
      "text/html": [
       "<pre style=\"white-space:pre;overflow-x:auto;line-height:normal;font-family:Menlo,'DejaVu Sans Mono',consolas,'Courier New',monospace\"><span style=\"color: #800000; text-decoration-color: #800000\">\u001b[1ALoading checkpoint shards:  25%|██▌       | 1/4 [00:04&lt;00:14,  4.69s/it]\n",
       "</span></pre>\n"
      ],
      "text/plain": [
       "\u001b[31m\u001b[1ALoading checkpoint shards:  25%|██▌       | 1/4 [00:04<00:14,  4.69s/it]\n",
       "\u001b[0m"
      ]
     },
     "metadata": {},
     "output_type": "display_data"
    },
    {
     "data": {
      "text/html": [
       "<pre style=\"white-space:pre;overflow-x:auto;line-height:normal;font-family:Menlo,'DejaVu Sans Mono',consolas,'Courier New',monospace\"><span style=\"color: #800000; text-decoration-color: #800000\">\u001b[1ALoading checkpoint shards:  50%|█████     | 2/4 [00:09&lt;00:10,  5.02s/it]\n",
       "</span></pre>\n"
      ],
      "text/plain": [
       "\u001b[31m\u001b[1ALoading checkpoint shards:  50%|█████     | 2/4 [00:09<00:10,  5.02s/it]\n",
       "\u001b[0m"
      ]
     },
     "metadata": {},
     "output_type": "display_data"
    },
    {
     "data": {
      "text/html": [
       "<pre style=\"white-space:pre;overflow-x:auto;line-height:normal;font-family:Menlo,'DejaVu Sans Mono',consolas,'Courier New',monospace\"><span style=\"color: #800000; text-decoration-color: #800000\">\u001b[1ALoading checkpoint shards:  75%|███████▌  | 3/4 [00:15&lt;00:05,  5.07s/it]\n",
       "</span></pre>\n"
      ],
      "text/plain": [
       "\u001b[31m\u001b[1ALoading checkpoint shards:  75%|███████▌  | 3/4 [00:15<00:05,  5.07s/it]\n",
       "\u001b[0m"
      ]
     },
     "metadata": {},
     "output_type": "display_data"
    },
    {
     "data": {
      "text/html": [
       "<pre style=\"white-space:pre;overflow-x:auto;line-height:normal;font-family:Menlo,'DejaVu Sans Mono',consolas,'Courier New',monospace\"><span style=\"color: #800000; text-decoration-color: #800000\">\u001b[1ALoading checkpoint shards: 100%|██████████| 4/4 [00:15&lt;00:00,  3.23s/it]Loading checkpoint shards: 100%|██████████| 4/4 [00:15&lt;00:00,  3.87s/it]\n",
       "</span></pre>\n"
      ],
      "text/plain": [
       "\u001b[31m\u001b[1ALoading checkpoint shards: 100%|██████████| 4/4 [00:15<00:00,  3.23s/it]Loading checkpoint shards: 100%|██████████| 4/4 [00:15<00:00,  3.87s/it]\n",
       "\u001b[0m"
      ]
     },
     "metadata": {},
     "output_type": "display_data"
    },
    {
     "data": {
      "text/html": [
       "<pre style=\"white-space:pre;overflow-x:auto;line-height:normal;font-family:Menlo,'DejaVu Sans Mono',consolas,'Courier New',monospace\"><span style=\"color: #800000; text-decoration-color: #800000\">Setting `pad_token_id` to `eos_token_id`:128001 for open-end generation.\n",
       "</span></pre>\n"
      ],
      "text/plain": [
       "\u001b[31mSetting `pad_token_id` to `eos_token_id`:128001 for open-end generation.\n",
       "\u001b[0m"
      ]
     },
     "metadata": {},
     "output_type": "display_data"
    },
    {
     "data": {
      "text/html": [
       "<pre style=\"white-space:pre;overflow-x:auto;line-height:normal;font-family:Menlo,'DejaVu Sans Mono',consolas,'Courier New',monospace\"></pre>\n"
      ],
      "text/plain": []
     },
     "metadata": {},
     "output_type": "display_data"
    },
    {
     "data": {
      "text/html": [
       "<pre style=\"white-space:pre;overflow-x:auto;line-height:normal;font-family:Menlo,'DejaVu Sans Mono',consolas,'Courier New',monospace\"><span style=\"color: #808000; text-decoration-color: #808000\">Stopping app - local entrypoint completed.\n",
       "</span></pre>\n"
      ],
      "text/plain": [
       "\u001b[33mStopping app - local entrypoint completed.\n",
       "\u001b[0m"
      ]
     },
     "metadata": {},
     "output_type": "display_data"
    },
    {
     "data": {
      "text/html": [
       "<pre style=\"white-space:pre;overflow-x:auto;line-height:normal;font-family:Menlo,'DejaVu Sans Mono',consolas,'Courier New',monospace\"><span style=\"color: #808000; text-decoration-color: #808000\">Runner terminated.\n",
       "</span></pre>\n"
      ],
      "text/plain": [
       "\u001b[33mRunner terminated.\n",
       "\u001b[0m"
      ]
     },
     "metadata": {},
     "output_type": "display_data"
    },
    {
     "data": {
      "text/html": [
       "<pre style=\"white-space:pre;overflow-x:auto;line-height:normal;font-family:Menlo,'DejaVu Sans Mono',consolas,'Courier New',monospace\"><span style=\"color: #008000; text-decoration-color: #008000\">✓</span> App completed. <span style=\"color: #b2b2b2; text-decoration-color: #b2b2b2\">View run at </span><span style=\"color: #b2b2b2; text-decoration-color: #b2b2b2; text-decoration: underline\">https://modal.com/apps/deepak-pict/main/ap-M9Iz4iSxevm4smDrvRTjl2</span>\n",
       "</pre>\n"
      ],
      "text/plain": [
       "\u001b[32m✓\u001b[0m App completed. \u001b[38;5;249mView run at \u001b[0m\u001b[4;38;5;249mhttps://modal.com/apps/deepak-pict/main/ap-M9Iz4iSxevm4smDrvRTjl2\u001b[0m\n"
      ]
     },
     "metadata": {},
     "output_type": "display_data"
    },
    {
     "data": {
      "text/plain": [
       "'<|begin_of_text|>Life is a mystery, everyone must stand alone, I hear you call my name,'"
      ]
     },
     "execution_count": 6,
     "metadata": {},
     "output_type": "execute_result"
    }
   ],
   "source": [
    "with modal.enable_output():\n",
    "    with app.run():\n",
    "        result=generate.remote(\"Life is a mystery, everyone must stand alone, I hear\")\n",
    "result"
   ]
  }
 ],
 "metadata": {
  "kernelspec": {
   "display_name": ".venv",
   "language": "python",
   "name": "python3"
  },
  "language_info": {
   "codemirror_mode": {
    "name": "ipython",
    "version": 3
   },
   "file_extension": ".py",
   "mimetype": "text/x-python",
   "name": "python",
   "nbconvert_exporter": "python",
   "pygments_lexer": "ipython3",
   "version": "3.10.11"
  }
 },
 "nbformat": 4,
 "nbformat_minor": 5
}
