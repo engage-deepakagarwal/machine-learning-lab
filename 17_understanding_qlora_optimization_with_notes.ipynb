{
 "cells": [
  {
   "cell_type": "markdown",
   "id": "9a0de70d",
   "metadata": {},
   "source": [
    "Refer [this Google Colab Notebook](https://colab.research.google.com/drive/1q5d3OX3E-JacH8xW8yNRbw4v1a2Q7p05?usp=sharing)"
   ]
  }
 ],
 "metadata": {
  "language_info": {
   "name": "python"
  }
 },
 "nbformat": 4,
 "nbformat_minor": 5
}
